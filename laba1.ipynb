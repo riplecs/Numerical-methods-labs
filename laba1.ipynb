{
 "cells": [
  {
   "attachments": {
    "image.png": {
     "image/png": "[encoded data removed]"
    }
   },
   "cell_type": "markdown",
   "metadata": {},
   "source": [
    "# Розв'язання нелінійних рівнянь\n",
    "\n",
    "Варіант 9, Калитюк Дар'я, ФІ-83\n",
    "\n",
    " ![image.png](attachment:image.png)\n",
    " "
   ]
  },
  {
   "cell_type": "code",
   "execution_count": 539,
   "metadata": {},
   "outputs": [],
   "source": [
    "import numpy as np\n",
    "import math\n",
    "import matplotlib.pyplot as plt\n",
    "import pandas as pd"
   ]
  },
  {
   "cell_type": "code",
   "execution_count": 540,
   "metadata": {
    "scrolled": true
   },
   "outputs": [
    {
     "data": {
      "text/plain": [
       "[<matplotlib.lines.Line2D at 0x18d5d433948>]"
      ]
     },
     "execution_count": 540,
     "metadata": {},
     "output_type": "execute_result"
    },
    {
     "data": {
      "image/png": "[encoded data removed]",
      "text/plain": [
       "<Figure size 432x288 with 1 Axes>"
      ]
     },
     "metadata": {
      "needs_background": "light"
     },
     "output_type": "display_data"
    }
   ],
   "source": [
    "func = lambda x: x**5+x**4-2*x**3-9*x**2-3*x-2\n",
    "x=np.linspace(-10, 10, 100)\n",
    "plt.grid()\n",
    "plt.axis([-10, 10, -30, 30])\n",
    "plt.plot(x, func(x))"
   ]
  },
  {
   "cell_type": "markdown",
   "metadata": {},
   "source": [
    "Метод Лагранжа:"
   ]
  },
  {
   "cell_type": "code",
   "execution_count": 543,
   "metadata": {},
   "outputs": [],
   "source": [
    "a_n=[-2, -3, -9, -2, 1, 1]; n=len(a_n)\n",
    "F_1=[]; F_2=[]\n",
    "for i in reversed(range(len(a_n))):\n",
    "    if a_n[i]>0:\n",
    "        F_1.insert(n-i, a_n[i])\n",
    "        F_2.insert(n-i, 0)\n",
    "    else: \n",
    "        F_2.insert(n-i, a_n[i])\n",
    "        F_1.insert(n-i, 0)"
   ]
  },
  {
   "cell_type": "code",
   "execution_count": 542,
   "metadata": {},
   "outputs": [
    {
     "name": "stdout",
     "output_type": "stream",
     "text": [
      "   5     4\n",
      "1 x + 1 x  = Ф(x)\n",
      "    3     2\n",
      "-2 x - 9 x - 3 x - 2  = F(x)\n",
      "α=3>0: P(α) = 178 > 0, отже ∀ x* < 3\n"
     ]
    }
   ],
   "source": [
    "print(np.poly1d(F_1), ' = Ф(x)')\n",
    "print(np.poly1d(F_2), ' = F(x)')\n",
    "alpha=1\n",
    "while func(alpha)<=0:\n",
    "    alpha=alpha+1\n",
    "print(f'α={alpha}>0: P(α) = {func(alpha)} > 0, отже ∀ x* < {alpha}')"
   ]
  },
  {
   "cell_type": "markdown",
   "metadata": {},
   "source": [
    "Теорема про кільце:"
   ]
  },
  {
   "cell_type": "code",
   "execution_count": 461,
   "metadata": {
    "scrolled": true
   },
   "outputs": [
    {
     "name": "stdout",
     "output_type": "stream",
     "text": [
      "A = max(|a_i|) (i=0, 1, ..., 4) = 9\n",
      "B = max(|a_i|) (i=1, 2, ..., 5) = 9\n",
      "Всі корені лежать у кільці: 0.18181818181818182 =< |x*| =< 10.0\n"
     ]
    }
   ],
   "source": [
    "A=abs(max(a_n[1:], key=abs))\n",
    "B=abs(max(a_n[:(len(a_n)-1)], key=abs))\n",
    "print(f'A = max(|a_i|) (i=0, 1, ..., 4) = {A}\\nB = max(|a_i|) (i=1, 2, ..., 5) = {B}')\n",
    "left=abs(a_n[0])/(B+abs(a_n[0])); rigth=(abs(a_n[len(a_n)-1])+A)/abs(a_n[len(a_n)-1])\n",
    "print(f'Всі корені лежать у кільці: {left} =< |x*| =< {rigth}')"
   ]
  },
  {
   "cell_type": "markdown",
   "metadata": {},
   "source": [
    "Теорема про верхню межу додатніх коренів:"
   ]
  },
  {
   "cell_type": "code",
   "execution_count": 462,
   "metadata": {},
   "outputs": [
    {
     "name": "stdout",
     "output_type": "stream",
     "text": [
      "B = max(|a_i|) (a_i<0; i=0, ..., n) = 9\n",
      "m = max(i) (a_i<0; i=0, ..., n) = 3\n",
      "R = 4.0 - верхня межа додатніх коренів.\n"
     ]
    }
   ],
   "source": [
    "a_neg=[]\n",
    "for i in range(len(a_n)):\n",
    "    if a_n[i]<0: a_neg.append(a_n[i])\n",
    "B=abs(max(a_neg, key=abs))\n",
    "print(f'B = max(|a_i|) (a_i<0; i=0, ..., n) = {B}')\n",
    "def find(a):\n",
    "    m=None\n",
    "    for i in reversed(range(len(a))):\n",
    "        if a[i]<0:\n",
    "            m=i\n",
    "            print(f'm = max(i) (a_i<0; i=0, ..., n) = {i}')        \n",
    "            return m\n",
    "            break\n",
    "    if m is None: print('Рівняння не має додатніх коренів.')\n",
    "\n",
    "R1=1+math.pow((B/a_n[len(a_n)-1]), 1/(len(a_n)-1-find(a_n)))\n",
    "print(f'R = {R1} - верхня межа додатніх коренів.')"
   ]
  },
  {
   "attachments": {},
   "cell_type": "markdown",
   "metadata": {},
   "source": [
    "Для знаходження нижньої межі додатніх коренів зробимо заміну x=1/y і отримаємо наступне рівняння:"
   ]
  },
  {
   "cell_type": "code",
   "execution_count": 463,
   "metadata": {},
   "outputs": [
    {
     "name": "stdout",
     "output_type": "stream",
     "text": [
      "    5     4     3     2\n",
      "-2 y - 3 y - 9 y - 2 y + 1 y + 1\n",
      "Домножимо на -1:\n",
      "    5     4     3     2\n",
      "2 y + 3 y + 9 y + 2 y - 1 y - 1\n"
     ]
    }
   ],
   "source": [
    "print(np.poly1d(a_n, variable='y'))\n",
    "if a_n[0]<0:\n",
    "    a_nn=[]\n",
    "    for i in range(len(a_n)):\n",
    "        a_nn.append((-1*a_n[i]))\n",
    "    print('Домножимо на -1:\\n', np.poly1d(a_nn, variable='y'))\n",
    "else: a_nn=a_n"
   ]
  },
  {
   "cell_type": "code",
   "execution_count": 464,
   "metadata": {},
   "outputs": [
    {
     "name": "stdout",
     "output_type": "stream",
     "text": [
      "[-1, -1, 2, 9, 3, 2]\n",
      "m = max(i) (a_i<0; i=0, ..., n) = 1\n",
      "R = 0.4070873392637155 - нижня межа додатніх коренів.\n"
     ]
    }
   ],
   "source": [
    "a_nn.reverse()\n",
    "print(a_nn)\n",
    "R=1+math.pow((B/a_nn[len(a_nn)-1]), 1/(len(a_nn)-1-find(a_nn)))\n",
    "R2=1/R\n",
    "print(f'R = {R2} - нижня межа додатніх коренів.')"
   ]
  },
  {
   "attachments": {},
   "cell_type": "markdown",
   "metadata": {},
   "source": [
    "Для знаходження нижньої межі від'ємних коренів зробимо заміну x=-x і отримаємо наступне рівняння:"
   ]
  },
  {
   "cell_type": "code",
   "execution_count": 465,
   "metadata": {},
   "outputs": [
    {
     "name": "stdout",
     "output_type": "stream",
     "text": [
      "    5     4     3     2\n",
      "-1 x + 1 x + 2 x - 9 x + 3 x - 2\n",
      "Домножимо на -1:\n",
      "    5     4     3     2\n",
      "1 x - 1 x - 2 x + 9 x - 3 x + 2\n"
     ]
    }
   ],
   "source": [
    "a_n.reverse()\n",
    "for i in range(len(a_n)):\n",
    "    if i%2==0: a_n[i]=-a_n[i]\n",
    "print(np.poly1d(a_n))\n",
    "if a_n[0]<0:\n",
    "    a_nn=[]\n",
    "    for i in range(len(a_n)):\n",
    "        a_nn.append((-1*a_n[i]))\n",
    "    print('Домножимо на -1:\\n', np.poly1d(a_nn))\n",
    "else: a_nn=a_n"
   ]
  },
  {
   "cell_type": "code",
   "execution_count": 466,
   "metadata": {},
   "outputs": [
    {
     "name": "stdout",
     "output_type": "stream",
     "text": [
      "[2, -3, 9, -2, -1, 1]\n",
      "m = max(i) (a_i<0; i=0, ..., n) = 4\n",
      "R = -10.0 - нижня межа від'ємних коренів.\n"
     ]
    }
   ],
   "source": [
    "a_nn.reverse()\n",
    "print(a_nn)\n",
    "R=1+math.pow((B/a_nn[len(a_nn)-1]), 1/(len(a_nn)-1-find(a_nn)))\n",
    "R3=-1*R\n",
    "print(f\"R = {R3} - нижня межа від'ємних коренів.\")\n"
   ]
  },
  {
   "attachments": {},
   "cell_type": "markdown",
   "metadata": {},
   "source": [
    "Для знаходження верхньої межі від'ємних коренів зробимо заміну x=-1/y і отримаємо наступне рівняння:"
   ]
  },
  {
   "cell_type": "code",
   "execution_count": 467,
   "metadata": {},
   "outputs": [
    {
     "name": "stdout",
     "output_type": "stream",
     "text": [
      "   5     4     3     2\n",
      "2 y - 3 y + 9 y - 2 y - 1 y + 1\n"
     ]
    }
   ],
   "source": [
    "print(np.poly1d(a_nn, variable='y'))"
   ]
  },
  {
   "cell_type": "code",
   "execution_count": 468,
   "metadata": {},
   "outputs": [
    {
     "name": "stdout",
     "output_type": "stream",
     "text": [
      "[1, -1, -2, 9, -3, 2]\n",
      "m = max(i) (a_i<0; i=0, ..., n) = 4\n",
      "R = -0.18181818181818182 - верхня межа від'ємних коренів.\n"
     ]
    }
   ],
   "source": [
    "a_nn.reverse()\n",
    "print(a_nn)\n",
    "R=1+math.pow((B/a_nn[len(a_nn)-1]), 1/(len(a_nn)-1-find(a_nn)))\n",
    "R4=-1/R\n",
    "print(f\"R = {R4} - верхня межа від'ємних коренів.\")"
   ]
  },
  {
   "cell_type": "markdown",
   "metadata": {},
   "source": [
    "Теорема Гюа про наявність комплесних коренів:"
   ]
  },
  {
   "cell_type": "code",
   "execution_count": 469,
   "metadata": {
    "scrolled": true
   },
   "outputs": [
    {
     "name": "stdout",
     "output_type": "stream",
     "text": [
      "Існує таке k, що (a_k)^2<a_(k-1)*a_(k+1), k = 1: 3^2=9<-2*-9=18, отже рівняння має комплексні корені.\n"
     ]
    }
   ],
   "source": [
    "a_n.reverse()\n",
    "for i in range(1, len(a_n)-1):\n",
    "    if a_n[i]**2<a_n[i-1]*a_n[i+1]:\n",
    "        print(f'Існує таке k, що (a_k)^2<a_(k-1)*a_(k+1), k = {i}: {a_n[i]}^2={pow(a_n[i], 2)}<{a_n[i-1]}*{a_n[i+1]}={a_n[i-1]*a_n[i+1]}, отже рівняння має комплексні корені.')\n",
    "        break\n",
    "    if i==len(a_n)-2: \n",
    "        print('Рівняння не має комплексних коренів.')    \n",
    "     "
   ]
  },
  {
   "cell_type": "markdown",
   "metadata": {},
   "source": [
    "Теорема Штурма:"
   ]
  },
  {
   "cell_type": "code",
   "execution_count": 524,
   "metadata": {},
   "outputs": [
    {
     "name": "stdout",
     "output_type": "stream",
     "text": [
      "   5     4     3     2\n",
      "1 x + 1 x - 2 x - 9 x - 3 x - 2\n"
     ]
    }
   ],
   "source": [
    "f=np.poly1d([1, 1, -2, -9, -3, -2])\n",
    "print(f)\n",
    "f0=f\n",
    "f1=np.poly1d([5, 4, -6, -18, -3])\n",
    "f2=np.polymul(np.polydiv(f0, f1)[1], -1)\n",
    "f3=np.polymul(np.polydiv(f1, f2)[1], -1)\n",
    "f4=np.polymul(np.polydiv(f2, f3)[1], -1)\n",
    "f5=np.polymul(np.polydiv(f3, f4)[1], -1)\n",
    "mas=[f2, f3, f4, f5]"
   ]
  },
  {
   "cell_type": "code",
   "execution_count": 525,
   "metadata": {
    "scrolled": false
   },
   "outputs": [
    {
     "name": "stdout",
     "output_type": "stream",
     "text": [
      "Загальна формула: f_(i+1)=-[f_(i-1) mod f_i]\n",
      "   5     4     3     2\n",
      "1 x + 1 x - 2 x - 9 x - 3 x - 2  = f0\n",
      "   4     3     2\n",
      "5 x + 4 x - 6 x - 18 x - 3  = f1\n",
      "      3        2\n",
      "0.96 x + 5.16 x + 1.68 x + 1.88  = f2\n",
      "        2\n",
      "-108.2 x - 12.24 x - 41.8  = f3\n",
      " \n",
      "-0.7378 x + 0.07127  = f4\n",
      " \n",
      "43.99  = f5\n"
     ]
    }
   ],
   "source": [
    "print('Загальна формула: f_(i+1)=-[f_(i-1) mod f_i]')\n",
    "print(f0, ' = f0')\n",
    "print(f1, ' = f1')\n",
    "print(mas[0], ' = f2')\n",
    "print(mas[1], ' = f3')\n",
    "print(mas[2], ' = f4')\n",
    "print(mas[3], ' = f5')"
   ]
  },
  {
   "cell_type": "code",
   "execution_count": 526,
   "metadata": {},
   "outputs": [],
   "source": [
    "a=max(left, R2)\n",
    "b=min(alpha, rigth, R1)\n",
    "c=R4\n",
    "d=R3\n",
    "points=[d, c, a, b]\n",
    "eps=0.00001"
   ]
  },
  {
   "cell_type": "code",
   "execution_count": 544,
   "metadata": {
    "scrolled": false
   },
   "outputs": [
    {
     "data": {
      "text/html": [
       "<div>\n",
       "<style scoped>\n",
       "    .dataframe tbody tr th:only-of-type {\n",
       "        vertical-align: middle;\n",
       "    }\n",
       "\n",
       "    .dataframe tbody tr th {\n",
       "        vertical-align: top;\n",
       "    }\n",
       "\n",
       "    .dataframe thead th {\n",
       "        text-align: right;\n",
       "    }\n",
       "</style>\n",
       "<table border=\"1\" class=\"dataframe\">\n",
       "  <thead>\n",
       "    <tr style=\"text-align: right;\">\n",
       "      <th></th>\n",
       "      <th>f(-10.0)</th>\n",
       "      <th>f(-0.18181818181818182)</th>\n",
       "      <th>f(0.4070873392637155)</th>\n",
       "      <th>f(3)</th>\n",
       "    </tr>\n",
       "    <tr>\n",
       "      <th>f</th>\n",
       "      <th></th>\n",
       "      <th></th>\n",
       "      <th></th>\n",
       "      <th></th>\n",
       "    </tr>\n",
       "  </thead>\n",
       "  <tbody>\n",
       "    <tr>\n",
       "      <th>f0</th>\n",
       "      <td>-88872.0</td>\n",
       "      <td>-1.739150952182849</td>\n",
       "      <td>-4.809024990821792</td>\n",
       "      <td>178</td>\n",
       "    </tr>\n",
       "    <tr>\n",
       "      <th>f1</th>\n",
       "      <td>45577.0</td>\n",
       "      <td>0.055802199303326194</td>\n",
       "      <td>-10.9147267355964</td>\n",
       "      <td>402</td>\n",
       "    </tr>\n",
       "    <tr>\n",
       "      <th>f2</th>\n",
       "      <td>-458.9199999999998</td>\n",
       "      <td>1.7393538692712247</td>\n",
       "      <td>3.4837865082810398</td>\n",
       "      <td>79.27999999999999</td>\n",
       "    </tr>\n",
       "    <tr>\n",
       "      <th>f3</th>\n",
       "      <td>-10739.713541666675</td>\n",
       "      <td>-43.148459022038594</td>\n",
       "      <td>-64.71088730173072</td>\n",
       "      <td>-1052.343750000001</td>\n",
       "    </tr>\n",
       "    <tr>\n",
       "      <th>f4</th>\n",
       "      <td>7.448975311377266</td>\n",
       "      <td>0.20540605523493327</td>\n",
       "      <td>-0.22907132624742255</td>\n",
       "      <td>-2.1420469444408226</td>\n",
       "    </tr>\n",
       "    <tr>\n",
       "      <th>f5</th>\n",
       "      <td>43.98879739757292</td>\n",
       "      <td>43.98879739757292</td>\n",
       "      <td>43.98879739757292</td>\n",
       "      <td>43.98879739757292</td>\n",
       "    </tr>\n",
       "  </tbody>\n",
       "</table>\n",
       "</div>"
      ],
      "text/plain": [
       "               f(-10.0) f(-0.18181818181818182) f(0.4070873392637155)  \\\n",
       "f                                                                       \n",
       "f0             -88872.0      -1.739150952182849    -4.809024990821792   \n",
       "f1              45577.0    0.055802199303326194     -10.9147267355964   \n",
       "f2   -458.9199999999998      1.7393538692712247    3.4837865082810398   \n",
       "f3  -10739.713541666675     -43.148459022038594    -64.71088730173072   \n",
       "f4    7.448975311377266     0.20540605523493327  -0.22907132624742255   \n",
       "f5    43.98879739757292       43.98879739757292     43.98879739757292   \n",
       "\n",
       "                   f(3)  \n",
       "f                        \n",
       "f0                  178  \n",
       "f1                  402  \n",
       "f2    79.27999999999999  \n",
       "f3   -1052.343750000001  \n",
       "f4  -2.1420469444408226  \n",
       "f5    43.98879739757292  "
      ]
     },
     "execution_count": 544,
     "metadata": {},
     "output_type": "execute_result"
    }
   ],
   "source": [
    "df=pd.DataFrame({'f': ['f0', 'f1', 'f2', 'f3', 'f4', 'f5'], f'f({d})':[f'{f0(d)}', f'{f1(d)}', f'{f2(d)}', f'{f3(d)}', f'{f4(d)}', f'{f5(d)}'], f'f({c})':[f'{f0(c)}', f'{f1(c)}', f'{f2(c)}', f'{f3(c)}', f'{f4(c)}', f'{f5(c)}'], f'f({a})':[f'{f0(a)}', f'{f1(a)}', f'{f2(a)}', f'{f3(a)}', f'{f4(a)}', f'{f5(a)}'], f'f({b})':[f'{f0(b)}', f'{f1(b)}', f'{f2(b)}', f'{f3(b)}', f'{f4(b)}', f'{f5(b)}']})\n",
    "df.set_index('f')"
   ]
  },
  {
   "cell_type": "code",
   "execution_count": 528,
   "metadata": {},
   "outputs": [],
   "source": [
    "def count(num):\n",
    "    k=0\n",
    "    for i in range(len(df[f'f({num})'])-1):\n",
    "        if (float(df[f'f({num})'][i])>0 and float(df[f'f({num})'][i+1])<0) or (float(df[f'f({num})'][i])<0 and float(df[f'f({num})'][i+1])>0):\n",
    "            k=k+1\n",
    "    return k"
   ]
  },
  {
   "cell_type": "code",
   "execution_count": 532,
   "metadata": {},
   "outputs": [
    {
     "name": "stdout",
     "output_type": "stream",
     "text": [
      "ККЗ у точці -10.0:  3\n",
      "ККЗ у точці -0.18181818181818182:  3\n",
      "ККЗ у точці 0.4070873392637155:  3\n",
      "ККЗ у точці 3:  2\n",
      "Кількість коренів на проміжку [-10.0, -0.18181818181818182] =  0\n",
      "Кількість коренів на проміжку [-0.18181818181818182, 0.4070873392637155] =  0\n",
      "Кількість коренів на проміжку [0.4070873392637155, 3] =  1\n",
      "a = 0.4070873392637155\n",
      "b = 3\n"
     ]
    }
   ],
   "source": [
    "for i in points:\n",
    "    print(f'ККЗ у точці {i}: ', count(i))\n",
    "for i in range(len(points)-1):\n",
    "    print(f'Кількість коренів на проміжку [{points[i]}, {points[i+1]}] = ', count(points[i])-count(points[i+1]))\n",
    "    if count(points[i])-count(points[i+1])>0:\n",
    "        a=points[i]\n",
    "        b=points[i+1]\n",
    "print(f'a = {a}\\nb = {b}')"
   ]
  },
  {
   "cell_type": "code",
   "execution_count": 533,
   "metadata": {},
   "outputs": [
    {
     "name": "stdout",
     "output_type": "stream",
     "text": [
      "Метод бісекції:\n",
      "1) a = 1.7035436696318578, b = 3\n",
      "2) a = 1.7035436696318578, b = 2.3517718348159287\n",
      "3) a = 2.0276577522238934, b = 2.3517718348159287\n",
      "4) a = 2.0276577522238934, b = 2.189714793519911\n",
      "5) a = 2.1086862728719025, b = 2.189714793519911\n",
      "6) a = 2.1492005331959065, b = 2.189714793519911\n",
      "7) a = 2.1694576633579086, b = 2.189714793519911\n",
      "8) a = 2.17958622843891, b = 2.189714793519911\n",
      "9) a = 2.17958622843891, b = 2.1846505109794103\n",
      "10) a = 2.18211836970916, b = 2.1846505109794103\n",
      "11) a = 2.18211836970916, b = 2.1833844403442852\n",
      "12) a = 2.18211836970916, b = 2.182751405026723\n",
      "13) a = 2.1824348873679416, b = 2.182751405026723\n",
      "14) a = 2.1824348873679416, b = 2.1825931461973322\n",
      "15) a = 2.1824348873679416, b = 2.182514016782637\n",
      "16) a = 2.1824744520752892, b = 2.182514016782637\n",
      "17) a = 2.182494234428963, b = 2.182514016782637\n",
      "18) a = 2.1825041256058, b = 2.182514016782637\n",
      "Корінь рівняння з проміжку [0.4070873392637155, 3] дорівнює:  2.1825090711942186\n"
     ]
    }
   ],
   "source": [
    "def bisection(x, y):\n",
    "    z=(x+y)/2\n",
    "    i=0\n",
    "    while abs(x-y)>eps:\n",
    "        i=i+1\n",
    "        z=(x+y)/2\n",
    "        if func(x)*func(z)<=0: \n",
    "            y=z\n",
    "        else: \n",
    "            x=z\n",
    "        print(f'{i}) a = {x}, b = {y}')\n",
    "    return (x+y)/2\n",
    "\n",
    "x_bisection=bisection(a, b)\n",
    "print(f'Метод бісекції:\\nКорінь рівняння з проміжку [{a}, {b}] дорівнює: ', x_bisection)"
   ]
  },
  {
   "cell_type": "code",
   "execution_count": 534,
   "metadata": {
    "scrolled": false
   },
   "outputs": [
    {
     "name": "stdout",
     "output_type": "stream",
     "text": [
      "Метод хорд:\n",
      "1) a = 0.4752972199582001, b = 3\n",
      "2) a = 0.5522836002355226, b = 3\n",
      "3) a = 0.639726430646652, b = 3\n",
      "4) a = 0.7394377248494178, b = 3\n",
      "5) a = 0.8531463608359839, b = 3\n",
      "6) a = 0.9820497443810531, b = 3\n",
      "7) a = 1.1260359018937363, b = 3\n",
      "8) a = 1.2826008609565116, b = 3\n",
      "9) a = 1.4458404221476282, b = 3\n",
      "10) a = 1.6064032515503877, b = 3\n",
      "11) a = 1.7533304711502244, b = 3\n",
      "12) a = 1.8774833100158472, b = 3\n",
      "13) a = 1.9745002191428682, b = 3\n",
      "14) a = 2.0452797336991253, b = 3\n",
      "15) a = 2.0941682136416864, b = 3\n",
      "16) a = 2.126603876974638, b = 3\n",
      "17) a = 2.147531667151304, b = 3\n",
      "18) a = 2.160786580183064, b = 3\n",
      "19) a = 2.169081975149902, b = 3\n",
      "20) a = 2.174234357534234, b = 3\n",
      "21) a = 2.17741944097365, b = 3\n",
      "22) a = 2.1793825988071815, b = 3\n",
      "23) a = 2.1805904110855776, b = 3\n",
      "24) a = 2.181332672096211, b = 3\n",
      "25) a = 2.1817885139884807, b = 3\n",
      "26) a = 2.1820683397480414, b = 3\n",
      "27) a = 2.18224007049951, b = 3\n",
      "28) a = 2.1823454458508, b = 3\n",
      "29) a = 2.182410098660152, b = 3\n",
      "30) a = 2.1824497638582088, b = 3\n",
      "31) a = 2.1824740979877464, b = 3\n",
      "32) a = 2.182489026349985, b = 3\n",
      "33) a = 2.182498184388752, b = 3\n",
      "34) a = 2.182503802483864, b = 3\n",
      "35) a = 2.1825072489453157, b = 3\n",
      "36) a = 2.182509363195464, b = 3\n",
      "37) a = 2.182510660190934, b = 3\n",
      "38) a = 2.182511455837191, b = 3\n",
      "39) a = 2.1825119439287164, b = 3\n",
      "40) a = 2.182512243349756, b = 3\n",
      "41) a = 2.182512427030334, b = 3\n",
      "42) a = 2.182512539709621, b = 3\n",
      "43) a = 2.1825126088329894, b = 3\n",
      "Корінь рівняння з проміжку [0.4070873392637155, 3] дорівнює:  2.182512651236877\n"
     ]
    }
   ],
   "source": [
    "def horda(x, y):\n",
    "    i=0\n",
    "    z=(x*func(y)-y*func(x))/(func(y)-func(x))\n",
    "    while abs(func(z))>eps:\n",
    "        i=i+1\n",
    "        z=(x*func(y)-y*func(x))/(func(y)-func(x))\n",
    "        if func(x)*func(z)<=0: \n",
    "            y=z\n",
    "        else: \n",
    "            x=z \n",
    "        print(f'{i}) a = {x}, b = {y}')\n",
    "    return (x*func(y)-y*func(x))/(func(y)-func(x))\n",
    "\n",
    "x_horda=horda(a, b)\n",
    "print(f'Метод хорд:\\nКорінь рівняння з проміжку [{a}, {b}] дорівнює: ', x_horda) "
   ]
  },
  {
   "cell_type": "code",
   "execution_count": 537,
   "metadata": {
    "scrolled": true
   },
   "outputs": [
    {
     "name": "stdout",
     "output_type": "stream",
     "text": [
      "Метод Ньютона:\n",
      "1) a = 1.7035436696318578, b = 3.586050797024418\n",
      "2) a = 2.6447972333281378, b = 2.3420252284778047\n",
      "3) a = 2.4934112309029715, b = 2.266519842013776\n",
      "4) a = 2.379965536458374, b = 2.2211591714375407\n",
      "5) a = 2.3005623539479574, b = 2.1978334546325637\n",
      "6) a = 2.2491979042902606, b = 2.1877728094176767\n",
      "7) a = 2.218485356853969, b = 2.184116180779494\n",
      "8) a = 2.2013007688167314, b = 2.182962075870115\n",
      "9) a = 2.192131422343423, b = 2.1826322394080044\n",
      "10) a = 2.187381830875714, b = 2.182543582618445\n",
      "11) a = 2.184962706747079, b = 2.182520563561124\n",
      "12) a = 2.1837416351541012, b = 2.1825146963143034\n",
      "13) a = 2.1831281657342023, b = 2.1825132150688673\n",
      "14) a = 2.1828206904015346, b = 2.1825128429292238\n",
      "Корінь рівняння з проміжку [0.4070873392637155, 3] дорівнює:  2.1825127496642494\n"
     ]
    }
   ],
   "source": [
    "d_func=lambda x: 5*x**4+4*x**3-6*x**2-18*x-3\n",
    "def newton(x, y):\n",
    "    i=0\n",
    "    x0=(x+y)/2\n",
    "    x1=x0-func(x0)/d_func(x0)\n",
    "    while(abs(func(x1))>eps):\n",
    "        i=i+1\n",
    "        print(f'{i}) a = {x0}, b = {x1}')\n",
    "        x0=(x1+x0)/2\n",
    "        x1=x0-func(x0)/d_func(x0)\n",
    "    return x1\n",
    "\n",
    "print('Метод Ньютона:')\n",
    "x_newton=newton(a, b)\n",
    "print(f'Корінь рівняння з проміжку [{a}, {b}] дорівнює: ', x_newton)  "
   ]
  },
  {
   "cell_type": "code",
   "execution_count": 538,
   "metadata": {},
   "outputs": [
    {
     "name": "stdout",
     "output_type": "stream",
     "text": [
      "Бісекція: f(2.1825090711942186) = -0.00030698425188724343\n",
      "Хорди: f(2.182512651236877) = -5.664028165597301e-06\n",
      "Ньютон: f(2.1825127496642494) = 2.6203147349690425e-06\n",
      "Найбільш точне значення отримано методом Ньютона.\n"
     ]
    }
   ],
   "source": [
    "res_b=func(x_bisection)\n",
    "res_h=func(x_horda)\n",
    "res_n=func(x_newton)\n",
    "print(f'Бісекція: f({x_bisection}) = {res_b}\\nХорди: f({x_horda}) = {res_h}\\nНьютон: f({x_newton}) = {res_n}')\n",
    "if min([res_b, res_h, res_n], key=abs)==res_b:\n",
    "    print(f'Найбільш точне значення отримано методом бісекції.')\n",
    "elif min([res_b, res_h, res_n], key=abs)==res_h:\n",
    "    print(f'Найбільш точне значення отримано методом хорд.')\n",
    "else:\n",
    "    print(f'Найбільш точне значення отримано методом Ньютона.')"
   ]
  }
 ],
 "metadata": {
  "kernelspec": {
   "display_name": "Python 3",
   "language": "python",
   "name": "python3"
  },
  "language_info": {
   "codemirror_mode": {
    "name": "ipython",
    "version": 3
   },
   "file_extension": ".py",
   "mimetype": "text/x-python",
   "name": "python",
   "nbconvert_exporter": "python",
   "pygments_lexer": "ipython3",
   "version": "3.7.6"
  }
 },
 "nbformat": 4,
 "nbformat_minor": 4
}
