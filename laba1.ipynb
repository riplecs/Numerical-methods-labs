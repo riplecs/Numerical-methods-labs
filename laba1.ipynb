{
 "cells": [
  {
   "attachments": {
    "image.png": {
     "image/png": "[encoded data removed]"
    }
   },
   "cell_type": "markdown",
   "metadata": {},
   "source": [
    "![image.png](attachment:image.png)\n",
    " "
   ]
  },
  {
   "cell_type": "code",
   "execution_count": 10,
   "metadata": {},
   "outputs": [],
   "source": [
    "import numpy as np\n",
    "import math\n",
    "import matplotlib.pyplot as plt\n",
    "import pandas as pd"
   ]
  },
  {
   "cell_type": "code",
   "execution_count": 11,
   "metadata": {
    "scrolled": false
   },
   "outputs": [
    {
     "data": {
      "text/plain": [
       "[<matplotlib.lines.Line2D at 0x1f5714f13c8>]"
      ]
     },
     "execution_count": 11,
     "metadata": {},
     "output_type": "execute_result"
    },
    {
     "data": {
      "image/png": "[encoded data removed]",
      "text/plain": [
       "<Figure size 432x288 with 1 Axes>"
      ]
     },
     "metadata": {
      "needs_background": "light"
     },
     "output_type": "display_data"
    }
   ],
   "source": [
    "func = lambda x: x**5+x**4-2*x**3-9*x**2-3*x-2\n",
    "x=np.linspace(-10, 10, 100)\n",
    "plt.grid()\n",
    "plt.axis([-10, 10, -30, 30])\n",
    "plt.plot(x, func(x))"
   ]
  },
  {
   "cell_type": "markdown",
   "metadata": {},
   "source": [
    "Метод Лагранжа:"
   ]
  },
  {
   "cell_type": "code",
   "execution_count": 44,
   "metadata": {},
   "outputs": [],
   "source": [
    "def Lagrange(f, z):\n",
    "    k=0\n",
    "    F=[]; Ф=[]\n",
    "    for i in reversed(f):\n",
    "        if i>0:\n",
    "            F.insert(0, i)\n",
    "            k=k+1\n",
    "        if i<0: break      \n",
    "    for i in reversed(range(len(f)-k)):\n",
    "        if f[i]<0: F.insert(0, f[i])\n",
    "        else: F.insert(0, 0)\n",
    "    for i in reversed(f):\n",
    "        if i in F: Ф.insert(0, 0)\n",
    "        else: Ф.insert(0, i)\n",
    "    return np.poly1d(F[::-1], variable=z), np.poly1d(Ф[::-1], variable=z)"
   ]
  },
  {
   "cell_type": "code",
   "execution_count": 45,
   "metadata": {},
   "outputs": [
    {
     "name": "stdout",
     "output_type": "stream",
     "text": [
      "   5     4     3     2\n",
      "1 x + 1 x - 2 x - 9 x - 3 x - 2  = P(x)\n",
      "   5     4     3     2\n",
      "1 x + 1 x - 2 x - 9 x - 3 x - 2  = F(x)\n",
      "  \n",
      "0  = Ф(x)\n",
      "\n",
      "α=3>0: F(α) = 178 > 0, отже ∀ x* < 3\n"
     ]
    }
   ],
   "source": [
    "a_n=[-2, -3, -9, -2, 1, 1]; n=len(a_n)\n",
    "print(np.poly1d(a_n[::-1]), ' = P(x)')\n",
    "F=Lagrange(a_n, 'x')[0]\n",
    "Ф=Lagrange(a_n, 'x')[1]\n",
    "print(F,' = F(x)\\n', Ф, ' = Ф(x)')\n",
    "def find_alpha(f):\n",
    "    alpha=1\n",
    "    while f(alpha)<=0:\n",
    "        alpha=alpha+1\n",
    "    return alpha\n",
    "alpha=find_alpha(F)\n",
    "print(f'\\nα={alpha}>0: F(α) = {F(alpha)} > 0, отже ∀ x* < {alpha}')"
   ]
  },
  {
   "cell_type": "markdown",
   "metadata": {},
   "source": [
    "Для нижньої межі: зробимо заміну x=1/y і отримаємо наступне рівняння:"
   ]
  },
  {
   "cell_type": "code",
   "execution_count": 13,
   "metadata": {},
   "outputs": [
    {
     "name": "stdout",
     "output_type": "stream",
     "text": [
      "    5     4     3     2\n",
      "-2 y - 3 y - 9 y - 2 y + 1 y + 1\n",
      "Домножимо на -1:\n",
      "    5     4     3     2\n",
      "2 y + 3 y + 9 y + 2 y - 1 y - 1\n",
      "   5     4     3     2\n",
      "2 y + 3 y + 9 y + 2 y - 1 y - 1  = F(x)\n",
      "  \n",
      "0  = Ф(x)\n",
      "\n",
      "α=1.0>0: F(α) = 14.0 > 0, отже ∀ x* > 1.0\n"
     ]
    }
   ],
   "source": [
    "print(np.poly1d(a_n, variable='y'))\n",
    "def cheking(mas, z):\n",
    "    if mas[0]<0:\n",
    "        res=[]\n",
    "        for i in range(len(mas)):\n",
    "            res.append((-1*mas[i]))\n",
    "        print('Домножимо на -1:\\n', np.poly1d(res, variable=z))\n",
    "    else: res=mas\n",
    "    return res\n",
    "a_nn=cheking(a_n, 'y')\n",
    "F=Lagrange(a_nn[::-1], 'y')[0]\n",
    "Ф=Lagrange(a_nn[::-1], 'y')[1]\n",
    "print(F,' = F(x)\\n', Ф, ' = Ф(x)')\n",
    "alpha1=1/find_alpha(F)\n",
    "print(f'\\nα={1/alpha1}>0: F(α) = {F(1/alpha1)} > 0, отже ∀ x* > {alpha1}')"
   ]
  },
  {
   "cell_type": "markdown",
   "metadata": {},
   "source": [
    "Уточнимо нижню межу від'ємних коренів: зробимо заміну x=-x і отримаємо наступне рівняння:"
   ]
  },
  {
   "cell_type": "code",
   "execution_count": 14,
   "metadata": {},
   "outputs": [
    {
     "name": "stdout",
     "output_type": "stream",
     "text": [
      "    5     4     3     2\n",
      "-1 x + 1 x + 2 x - 9 x + 3 x - 2\n",
      "Домножимо на -1:\n",
      "    5     4     3     2\n",
      "1 x - 1 x - 2 x + 9 x - 3 x + 2\n",
      "   5     4     3\n",
      "1 x - 1 x - 2 x - 3 x  = F(x)\n",
      "    2\n",
      "9 x + 2  = Ф(x)\n",
      "\n",
      "α=3>0: F(α) = 99 > 0, отже ∀ x- > -3\n"
     ]
    }
   ],
   "source": [
    "def sign(mas):\n",
    "    res=[]\n",
    "    for i in mas: res.append(i)\n",
    "    for i in range(len(res)):\n",
    "        if i%2==1: res[i]=-1*res[i]\n",
    "    return res\n",
    "print(np.poly1d(sign(a_n)[::-1]))\n",
    "a_nn=cheking(sign(a_n)[::-1], 'x')\n",
    "F=Lagrange(a_nn[::-1], 'x')[0]\n",
    "Ф=Lagrange(a_nn[::-1], 'x')[1]\n",
    "print(F,' = F(x)\\n', Ф, ' = Ф(x)')\n",
    "alpha2=-find_alpha(F)\n",
    "print(f'\\nα={-alpha2}>0: F(α) = {F(-alpha2)} > 0, отже ∀ x- > {alpha2}')"
   ]
  },
  {
   "cell_type": "markdown",
   "metadata": {},
   "source": [
    "Уточнимо верхню межу від'ємних коренів: зробимо заміну x=-1/y і отримаємо наступне рівняння:"
   ]
  },
  {
   "cell_type": "code",
   "execution_count": 15,
   "metadata": {},
   "outputs": [
    {
     "name": "stdout",
     "output_type": "stream",
     "text": [
      "   5     4     3     2\n",
      "2 y - 3 y + 9 y - 2 y - 1 y + 1\n",
      "   5     4     2\n",
      "2 y - 3 y - 2 y - 1 y  = F(x)\n",
      "    3\n",
      "9 y + 1  = Ф(x)\n",
      "\n",
      "α=2.0>0: F(α) = 6.0 > 0, отже ∀ x- < -0.5\n"
     ]
    }
   ],
   "source": [
    "print(np.poly1d(sign(a_n[::-1])[::-1], variable='y'))\n",
    "a_nn=cheking(sign(a_n[::-1])[::-1], 'y')\n",
    "F=Lagrange(a_nn[::-1], 'y')[0]\n",
    "Ф=Lagrange(a_nn[::-1], 'y')[1]\n",
    "print(F,' = F(x)\\n', Ф, ' = Ф(x)')\n",
    "alpha3=-1/find_alpha(F)\n",
    "print(f'\\nα={-1/alpha3}>0: F(α) = {F(-1/alpha3)} > 0, отже ∀ x- < {alpha3}')"
   ]
  },
  {
   "cell_type": "markdown",
   "metadata": {},
   "source": [
    "Теорема про кільце:"
   ]
  },
  {
   "cell_type": "code",
   "execution_count": 16,
   "metadata": {
    "scrolled": true
   },
   "outputs": [
    {
     "name": "stdout",
     "output_type": "stream",
     "text": [
      "A = max(|a_i|) (i=0, 1, ..., 4) = 9\n",
      "B = max(|a_i|) (i=1, 2, ..., 5) = 9\n",
      "Всі корені лежать у кільці: 0.18181818181818182 =< |x*| =< 10.0\n"
     ]
    }
   ],
   "source": [
    "A=abs(max(a_n[1:], key=abs))\n",
    "B=abs(max(a_n[:(len(a_n)-1)], key=abs))\n",
    "print(f'A = max(|a_i|) (i=0, 1, ..., 4) = {A}\\nB = max(|a_i|) (i=1, 2, ..., 5) = {B}')\n",
    "left=abs(a_n[0])/(B+abs(a_n[0])); rigth=(abs(a_n[len(a_n)-1])+A)/abs(a_n[len(a_n)-1])\n",
    "print(f'Всі корені лежать у кільці: {left} =< |x*| =< {rigth}')"
   ]
  },
  {
   "cell_type": "markdown",
   "metadata": {},
   "source": [
    "Теорема про верхню межу додатніх коренів:"
   ]
  },
  {
   "cell_type": "code",
   "execution_count": 17,
   "metadata": {},
   "outputs": [
    {
     "name": "stdout",
     "output_type": "stream",
     "text": [
      "B = max(|a_i|) (a_i<0; i=0, ..., n) = 9\n",
      "m = max(i) (a_i<0; i=0, ..., n) = 3\n",
      "R = 4.0 - верхня межа додатніх коренів.\n"
     ]
    }
   ],
   "source": [
    "a_neg=[]\n",
    "for i in range(len(a_n)):\n",
    "    if a_n[i]<0: a_neg.append(a_n[i])\n",
    "B=abs(max(a_neg, key=abs))\n",
    "print(f'B = max(|a_i|) (a_i<0; i=0, ..., n) = {B}')\n",
    "def find(a):\n",
    "    m=None\n",
    "    for i in reversed(range(len(a))):\n",
    "        if a[i]<0:\n",
    "            m=i\n",
    "            print(f'm = max(i) (a_i<0; i=0, ..., n) = {i}')        \n",
    "            return m\n",
    "            break\n",
    "    if m is None: print('Рівняння не має додатніх коренів.')\n",
    "\n",
    "R1=1+math.pow((B/a_n[len(a_n)-1]), 1/(len(a_n)-1-find(a_n)))\n",
    "print(f'R = {R1} - верхня межа додатніх коренів.')"
   ]
  },
  {
   "cell_type": "markdown",
   "metadata": {},
   "source": [
    "Для знаходження нижньої межі додатніх коренів зробимо заміну x=1/y і отримаємо наступне рівняння:"
   ]
  },
  {
   "cell_type": "code",
   "execution_count": 18,
   "metadata": {},
   "outputs": [
    {
     "name": "stdout",
     "output_type": "stream",
     "text": [
      "    5     4     3     2\n",
      "-2 y - 3 y - 9 y - 2 y + 1 y + 1\n",
      "Домножимо на -1:\n",
      "    5     4     3     2\n",
      "2 y + 3 y + 9 y + 2 y - 1 y - 1\n"
     ]
    }
   ],
   "source": [
    "print(np.poly1d(a_n, variable='y'))\n",
    "a_nn=cheking(a_n, 'y')"
   ]
  },
  {
   "cell_type": "code",
   "execution_count": 19,
   "metadata": {},
   "outputs": [
    {
     "name": "stdout",
     "output_type": "stream",
     "text": [
      "m = max(i) (a_i<0; i=0, ..., n) = 1\n",
      "R = 0.4070873392637155 - нижня межа додатніх коренів.\n"
     ]
    }
   ],
   "source": [
    "R=1+math.pow((B/a_nn[::-1][len(a_nn)-1]), 1/(len(a_nn)-1-find(a_nn[::-1])))\n",
    "R2=1/R\n",
    "print(f'R = {R2} - нижня межа додатніх коренів.')"
   ]
  },
  {
   "cell_type": "markdown",
   "metadata": {},
   "source": [
    "Для знаходження нижньої межі від'ємних коренів зробимо заміну x=-x і отримаємо наступне рівняння:"
   ]
  },
  {
   "cell_type": "code",
   "execution_count": 20,
   "metadata": {},
   "outputs": [
    {
     "name": "stdout",
     "output_type": "stream",
     "text": [
      "    5     4     3     2\n",
      "-1 x + 1 x + 2 x - 9 x + 3 x - 2\n",
      "Домножимо на -1:\n",
      "    5     4     3     2\n",
      "1 x - 1 x - 2 x + 9 x - 3 x + 2\n"
     ]
    }
   ],
   "source": [
    "print(np.poly1d(sign(a_n)[::-1]))\n",
    "a_nn=cheking(sign(a_n)[::-1], 'x')"
   ]
  },
  {
   "cell_type": "code",
   "execution_count": 21,
   "metadata": {},
   "outputs": [
    {
     "name": "stdout",
     "output_type": "stream",
     "text": [
      "m = max(i) (a_i<0; i=0, ..., n) = 4\n",
      "R = -10.0 - нижня межа від'ємних коренів.\n"
     ]
    }
   ],
   "source": [
    "R=1+math.pow((B/a_nn[::-1][len(a_nn)-1]), 1/(len(a_nn)-1-find(a_nn[::-1])))\n",
    "R3=-1*R\n",
    "print(f\"R = {R3} - нижня межа від'ємних коренів.\")"
   ]
  },
  {
   "cell_type": "markdown",
   "metadata": {},
   "source": [
    "Для знаходження верхньої межі від'ємних коренів зробимо заміну x=-1/y і отримаємо наступне рівняння:"
   ]
  },
  {
   "cell_type": "code",
   "execution_count": 22,
   "metadata": {},
   "outputs": [
    {
     "name": "stdout",
     "output_type": "stream",
     "text": [
      "   5     4     3     2\n",
      "2 y - 3 y + 9 y - 2 y - 1 y + 1\n",
      "m = max(i) (a_i<0; i=0, ..., n) = 4\n",
      "R = -0.18181818181818182 - верхня межа від'ємних коренів.\n"
     ]
    }
   ],
   "source": [
    "print(np.poly1d(sign(a_n[::-1])[::-1], variable='y'))\n",
    "a_nn=cheking(sign(a_n[::-1])[::-1], 'y')\n",
    "R=1+math.pow((B/a_nn[::-1][len(a_nn)-1]), 1/(len(a_nn)-1-find(a_nn[::-1])))\n",
    "R4=-1/R\n",
    "print(f\"R = {R4} - верхня межа від'ємних коренів.\")"
   ]
  },
  {
   "cell_type": "markdown",
   "metadata": {},
   "source": [
    "Теорема Гюа про наявність комплесних коренів:"
   ]
  },
  {
   "cell_type": "code",
   "execution_count": 23,
   "metadata": {
    "scrolled": true
   },
   "outputs": [
    {
     "name": "stdout",
     "output_type": "stream",
     "text": [
      "Існує таке k, що (a_k)^2<a_(k-1)*a_(k+1), k = 1: -3^2=9<-2*-9=18, отже рівняння має комплексні корені.\n"
     ]
    }
   ],
   "source": [
    "for i in range(1, len(a_n)-1):\n",
    "    if a_n[i]**2<a_n[i-1]*a_n[i+1]:\n",
    "        print(f'Існує таке k, що (a_k)^2<a_(k-1)*a_(k+1), k = {i}: {a_n[i]}^2={pow(a_n[i], 2)}<{a_n[i-1]}*{a_n[i+1]}={a_n[i-1]*a_n[i+1]}, отже рівняння має комплексні корені.')\n",
    "        break\n",
    "    if i==len(a_n)-2: \n",
    "        print('Рівняння не має комплексних коренів.')    \n",
    "     "
   ]
  },
  {
   "cell_type": "markdown",
   "metadata": {},
   "source": [
    "Теорема Штурма:"
   ]
  },
  {
   "cell_type": "code",
   "execution_count": 24,
   "metadata": {},
   "outputs": [],
   "source": [
    "f=np.poly1d(a_n[::-1])\n",
    "f0=f\n",
    "f1=np.poly1d([5, 4, -6, -18, -3])\n",
    "f2=np.polymul(np.polydiv(f0, f1)[1], -1)\n",
    "f3=np.polymul(np.polydiv(f1, f2)[1], -1)\n",
    "f4=np.polymul(np.polydiv(f2, f3)[1], -1)\n",
    "f5=np.polymul(np.polydiv(f3, f4)[1], -1)\n",
    "mas=[f2, f3, f4, f5]"
   ]
  },
  {
   "cell_type": "code",
   "execution_count": 25,
   "metadata": {
    "scrolled": false
   },
   "outputs": [
    {
     "name": "stdout",
     "output_type": "stream",
     "text": [
      "Загальна формула: f_(i+1)=-[f_(i-1) mod f_i]\n",
      "   5     4     3     2\n",
      "1 x + 1 x - 2 x - 9 x - 3 x - 2  = f0\n",
      "   4     3     2\n",
      "5 x + 4 x - 6 x - 18 x - 3  = f1\n",
      "      3        2\n",
      "0.96 x + 5.16 x + 1.68 x + 1.88  = f2\n",
      "        2\n",
      "-108.2 x - 12.24 x - 41.8  = f3\n",
      " \n",
      "-0.7378 x + 0.07127  = f4\n",
      " \n",
      "43.99  = f5\n"
     ]
    }
   ],
   "source": [
    "print('Загальна формула: f_(i+1)=-[f_(i-1) mod f_i]')\n",
    "print(f0, ' = f0')\n",
    "print(f1, ' = f1')\n",
    "print(mas[0], ' = f2')\n",
    "print(mas[1], ' = f3')\n",
    "print(mas[2], ' = f4')\n",
    "print(mas[3], ' = f5')"
   ]
  },
  {
   "cell_type": "code",
   "execution_count": 26,
   "metadata": {},
   "outputs": [],
   "source": [
    "a=max(left, R2, alpha1)\n",
    "b=min(alpha, rigth, R1)\n",
    "c=-max(abs(alpha3), abs(R4))\n",
    "d=-min(abs(R3), abs(alpha2))\n",
    "points=[d, c, a, b]\n",
    "eps=0.00001"
   ]
  },
  {
   "cell_type": "code",
   "execution_count": 27,
   "metadata": {
    "scrolled": true
   },
   "outputs": [
    {
     "data": {
      "text/html": [
       "<div>\n",
       "<style scoped>\n",
       "    .dataframe tbody tr th:only-of-type {\n",
       "        vertical-align: middle;\n",
       "    }\n",
       "\n",
       "    .dataframe tbody tr th {\n",
       "        vertical-align: top;\n",
       "    }\n",
       "\n",
       "    .dataframe thead th {\n",
       "        text-align: right;\n",
       "    }\n",
       "</style>\n",
       "<table border=\"1\" class=\"dataframe\">\n",
       "  <thead>\n",
       "    <tr style=\"text-align: right;\">\n",
       "      <th></th>\n",
       "      <th>f(-3)</th>\n",
       "      <th>f(-0.5)</th>\n",
       "      <th>f(1.0)</th>\n",
       "      <th>f(3)</th>\n",
       "    </tr>\n",
       "    <tr>\n",
       "      <th>f</th>\n",
       "      <th></th>\n",
       "      <th></th>\n",
       "      <th></th>\n",
       "      <th></th>\n",
       "    </tr>\n",
       "  </thead>\n",
       "  <tbody>\n",
       "    <tr>\n",
       "      <th>f0</th>\n",
       "      <td>-182</td>\n",
       "      <td>-2.46875</td>\n",
       "      <td>-14.0</td>\n",
       "      <td>178</td>\n",
       "    </tr>\n",
       "    <tr>\n",
       "      <th>f1</th>\n",
       "      <td>294</td>\n",
       "      <td>4.3125</td>\n",
       "      <td>-18.0</td>\n",
       "      <td>402</td>\n",
       "    </tr>\n",
       "    <tr>\n",
       "      <th>f2</th>\n",
       "      <td>17.36000000000001</td>\n",
       "      <td>2.21</td>\n",
       "      <td>9.680000000000001</td>\n",
       "      <td>79.27999999999999</td>\n",
       "    </tr>\n",
       "    <tr>\n",
       "      <th>f3</th>\n",
       "      <td>-978.9062500000006</td>\n",
       "      <td>-62.72786458333337</td>\n",
       "      <td>-162.23958333333346</td>\n",
       "      <td>-1052.343750000001</td>\n",
       "    </tr>\n",
       "    <tr>\n",
       "      <th>f4</th>\n",
       "      <td>2.2845787120906027</td>\n",
       "      <td>0.44015135520250886</td>\n",
       "      <td>-0.6665050589303475</td>\n",
       "      <td>-2.1420469444408226</td>\n",
       "    </tr>\n",
       "    <tr>\n",
       "      <th>f5</th>\n",
       "      <td>43.98879739757292</td>\n",
       "      <td>43.98879739757292</td>\n",
       "      <td>43.98879739757292</td>\n",
       "      <td>43.98879739757292</td>\n",
       "    </tr>\n",
       "  </tbody>\n",
       "</table>\n",
       "</div>"
      ],
      "text/plain": [
       "                 f(-3)              f(-0.5)               f(1.0)  \\\n",
       "f                                                                  \n",
       "f0                -182             -2.46875                -14.0   \n",
       "f1                 294               4.3125                -18.0   \n",
       "f2   17.36000000000001                 2.21    9.680000000000001   \n",
       "f3  -978.9062500000006   -62.72786458333337  -162.23958333333346   \n",
       "f4  2.2845787120906027  0.44015135520250886  -0.6665050589303475   \n",
       "f5   43.98879739757292    43.98879739757292    43.98879739757292   \n",
       "\n",
       "                   f(3)  \n",
       "f                        \n",
       "f0                  178  \n",
       "f1                  402  \n",
       "f2    79.27999999999999  \n",
       "f3   -1052.343750000001  \n",
       "f4  -2.1420469444408226  \n",
       "f5    43.98879739757292  "
      ]
     },
     "execution_count": 27,
     "metadata": {},
     "output_type": "execute_result"
    }
   ],
   "source": [
    "df=pd.DataFrame({'f': ['f0', 'f1', 'f2', 'f3', 'f4', 'f5'], f'f({d})':[f'{f0(d)}', f'{f1(d)}', f'{f2(d)}', f'{f3(d)}', f'{f4(d)}', f'{f5(d)}'], f'f({c})':[f'{f0(c)}', f'{f1(c)}', f'{f2(c)}', f'{f3(c)}', f'{f4(c)}', f'{f5(c)}'], f'f({a})':[f'{f0(a)}', f'{f1(a)}', f'{f2(a)}', f'{f3(a)}', f'{f4(a)}', f'{f5(a)}'], f'f({b})':[f'{f0(b)}', f'{f1(b)}', f'{f2(b)}', f'{f3(b)}', f'{f4(b)}', f'{f5(b)}']})\n",
    "df.set_index('f')"
   ]
  },
  {
   "cell_type": "code",
   "execution_count": 28,
   "metadata": {},
   "outputs": [],
   "source": [
    "def count(num):\n",
    "    k=0\n",
    "    for i in range(len(df[f'f({num})'])-1):\n",
    "        if (float(df[f'f({num})'][i])>0 and float(df[f'f({num})'][i+1])<0) or (float(df[f'f({num})'][i])<0 and float(df[f'f({num})'][i+1])>0):\n",
    "            k=k+1\n",
    "    return k"
   ]
  },
  {
   "cell_type": "code",
   "execution_count": 29,
   "metadata": {},
   "outputs": [
    {
     "name": "stdout",
     "output_type": "stream",
     "text": [
      "ККЗ у точці -3:  3\n",
      "ККЗ у точці -0.5:  3\n",
      "ККЗ у точці 1.0:  3\n",
      "ККЗ у точці 3:  2\n",
      "Кількість коренів на проміжку [-3, -0.5] =  0\n",
      "Кількість коренів на проміжку [-0.5, 1.0] =  0\n",
      "Кількість коренів на проміжку [1.0, 3] =  1\n",
      "отже a = 1.0; b = 3\n"
     ]
    }
   ],
   "source": [
    "for i in points:\n",
    "    print(f'ККЗ у точці {i}: ', count(i))\n",
    "for i in range(len(points)-1):\n",
    "    print(f'Кількість коренів на проміжку [{points[i]}, {points[i+1]}] = ', count(points[i])-count(points[i+1]))\n",
    "    if count(points[i])-count(points[i+1])>0:\n",
    "        a=points[i]\n",
    "        b=points[i+1]\n",
    "print(f'отже a = {a}; b = {b}')"
   ]
  },
  {
   "cell_type": "code",
   "execution_count": 30,
   "metadata": {
    "scrolled": false
   },
   "outputs": [
    {
     "name": "stdout",
     "output_type": "stream",
     "text": [
      "1) a = 2.0, b = 3\n",
      "2) a = 2.0, b = 2.5\n",
      "3) a = 2.0, b = 2.25\n",
      "4) a = 2.125, b = 2.25\n",
      "5) a = 2.125, b = 2.1875\n",
      "6) a = 2.15625, b = 2.1875\n",
      "7) a = 2.171875, b = 2.1875\n",
      "8) a = 2.1796875, b = 2.1875\n",
      "9) a = 2.1796875, b = 2.18359375\n",
      "10) a = 2.181640625, b = 2.18359375\n",
      "11) a = 2.181640625, b = 2.1826171875\n",
      "12) a = 2.18212890625, b = 2.1826171875\n",
      "13) a = 2.182373046875, b = 2.1826171875\n",
      "14) a = 2.1824951171875, b = 2.1826171875\n",
      "15) a = 2.1824951171875, b = 2.18255615234375\n",
      "16) a = 2.1824951171875, b = 2.182525634765625\n",
      "17) a = 2.1825103759765625, b = 2.182525634765625\n",
      "18) a = 2.1825103759765625, b = 2.1825180053710938\n",
      "Метод бісекції:\n",
      "Корінь рівняння з проміжку [1.0, 3] дорівнює:  2.182514190673828\n"
     ]
    }
   ],
   "source": [
    "def bisection(x, y):\n",
    "    z=(x+y)/2\n",
    "    i=0\n",
    "    while abs(x-y)>eps:\n",
    "        i=i+1\n",
    "        z=(x+y)/2\n",
    "        if func(x)*func(z)<=0: \n",
    "            y=z\n",
    "        else: \n",
    "            x=z\n",
    "        print(f'{i}) a = {x}, b = {y}')\n",
    "    return (x+y)/2\n",
    "\n",
    "x_bisection=bisection(a, b)\n",
    "print(f'Метод бісекції:\\nКорінь рівняння з проміжку [{a}, {b}] дорівнює: ', x_bisection)"
   ]
  },
  {
   "cell_type": "code",
   "execution_count": 51,
   "metadata": {
    "scrolled": true
   },
   "outputs": [
    {
     "data": {
      "text/plain": [
       "[<matplotlib.lines.Line2D at 0x1f5718302c8>]"
      ]
     },
     "execution_count": 51,
     "metadata": {},
     "output_type": "execute_result"
    },
    {
     "data": {
      "image/png": "[encoded data removed]",
      "text/plain": [
       "<Figure size 216x216 with 1 Axes>"
      ]
     },
     "metadata": {
      "needs_background": "light"
     },
     "output_type": "display_data"
    }
   ],
   "source": [
    "x=np.linspace(1, 3, 100); plt.figure(figsize=(3, 3)); plt.grid()\n",
    "plt.axis([1, 3, -25, 50]); plt.plot(x, func(x))"
   ]
  },
  {
   "cell_type": "code",
   "execution_count": 34,
   "metadata": {
    "scrolled": true
   },
   "outputs": [
    {
     "name": "stdout",
     "output_type": "stream",
     "text": [
      "1) a = 1.1458333333333333, b = 3\n",
      "2) a = 1.3036835375342746, b = 3\n",
      "3) a = 1.4671661573831265, b = 3\n",
      "4) a = 1.6265706586940254, b = 3\n",
      "5) a = 1.7709650929096163, b = 3\n",
      "6) a = 1.8917057094582292, b = 3\n",
      "7) a = 1.985151315660314, b = 3\n",
      "8) a = 2.052783805036513, b = 3\n",
      "9) a = 2.099217108895502, b = 3\n",
      "10) a = 2.1298923303329906, b = 3\n",
      "11) a = 2.1496272786894677, b = 3\n",
      "12) a = 2.1621032246108194, b = 3\n",
      "13) a = 2.1699017705387837, b = 3\n",
      "14) a = 2.1747419108111767, b = 3\n",
      "15) a = 2.177732572416224, b = 3\n",
      "16) a = 2.179575362039127, b = 3\n",
      "17) a = 2.180708916261741, b = 3\n",
      "18) a = 2.181405465285968, b = 3\n",
      "19) a = 2.1818332052977345, b = 3\n",
      "20) a = 2.182095769355941, b = 3\n",
      "21) a = 2.1822569023841942, b = 3\n",
      "22) a = 2.182355773339408, b = 3\n",
      "23) a = 2.1824164348079997, b = 3\n",
      "24) a = 2.1824536510557824, b = 3\n",
      "25) a = 2.182476482700683, b = 3\n",
      "26) a = 2.1824904892961645, b = 3\n",
      "27) a = 2.1824990818509025, b = 3\n",
      "28) a = 2.1825043530394903, b = 3\n",
      "29) a = 2.182507586686946, b = 3\n",
      "30) a = 2.1825095703845894, b = 3\n",
      "31) a = 2.1825107872918528, b = 3\n",
      "32) a = 2.18251153380764, b = 3\n",
      "33) a = 2.182511991759902, b = 3\n",
      "34) a = 2.182512272691918, b = 3\n",
      "35) a = 2.182512445030354, b = 3\n",
      "36) a = 2.1825125507517753, b = 3\n",
      "37) a = 2.182512615606824, b = 3\n",
      "Метод хорд:\n",
      "Корінь рівняння з проміжку [1.0, 3] дорівнює:  2.182512655392301\n"
     ]
    }
   ],
   "source": [
    "def horda(x, y):\n",
    "    i=0\n",
    "    z=(x*func(y)-y*func(x))/(func(y)-func(x))\n",
    "    while abs(func(z))>eps:\n",
    "        i=i+1\n",
    "        z=(x*func(y)-y*func(x))/(func(y)-func(x))\n",
    "        if func(a)>0: y=z\n",
    "        else: x=z \n",
    "        print(f'{i}) a = {x}, b = {y}')\n",
    "    return (x*func(y)-y*func(x))/(func(y)-func(x))\n",
    "\n",
    "x_horda=horda(a, b)\n",
    "print(f'Метод хорд:\\nКорінь рівняння з проміжку [{a}, {b}] дорівнює: ', x_horda) "
   ]
  },
  {
   "cell_type": "code",
   "execution_count": 42,
   "metadata": {
    "scrolled": true
   },
   "outputs": [
    {
     "name": "stdout",
     "output_type": "stream",
     "text": [
      "Метод Ньютона:\n",
      "1) a = 2.0, b = 2.2448979591836733\n",
      "2) a = 2.1224489795918364, b = 2.1877640584457434\n",
      "3) a = 2.1551065190187897, b = 2.1835447147335\n",
      "4) a = 2.1693256168761446, b = 2.1827459581608943\n",
      "5) a = 2.1760357875185194, b = 2.1825683581930195\n",
      "6) a = 2.1793020728557693, b = 2.182526316864263\n",
      "7) a = 2.180914194860016, b = 2.1825160804432917\n",
      "8) a = 2.181715137651654, b = 2.1825135543774086\n",
      "9) a = 2.182114346014531, b = 2.1825129269189576\n",
      "Корінь рівняння з проміжку [1.0, 3] дорівнює:  2.1825127705571954\n"
     ]
    }
   ],
   "source": [
    "d_func=lambda x: 5*x**4+4*x**3-6*x**2-18*x-3\n",
    "def newton(x, y):\n",
    "    i=0\n",
    "    x0=(x+y)/2\n",
    "    x1=x0-func(x0)/d_func(x0)\n",
    "    while(abs(func(x1))>eps):\n",
    "        i=i+1\n",
    "        print(f'{i}) a = {x0}, b = {x1}')\n",
    "        x0=(x1+x0)/2\n",
    "        x1=x0-func(x0)/d_func(x0)\n",
    "    return x1\n",
    "\n",
    "print('Метод Ньютона:')\n",
    "x_newton=newton(a, b)\n",
    "print(f'Корінь рівняння з проміжку [{a}, {b}] дорівнює: ', x_newton)  "
   ]
  },
  {
   "cell_type": "code",
   "execution_count": 43,
   "metadata": {},
   "outputs": [
    {
     "name": "stdout",
     "output_type": "stream",
     "text": [
      "Бісекція: f(2.182514190673828) = 0.0001239061046618417\n",
      "Хорди: f(2.182512655392301) = -5.3142783738024946e-06\n",
      "Ньютон: f(2.1825127705571954) = 4.378812933580889e-06\n",
      "Найбільш точне значення отримано методом Ньютона.\n"
     ]
    }
   ],
   "source": [
    "res_b=func(x_bisection)\n",
    "res_h=func(x_horda)\n",
    "res_n=func(x_newton)\n",
    "print(f'Бісекція: f({x_bisection}) = {res_b}\\nХорди: f({x_horda}) = {res_h}\\nНьютон: f({x_newton}) = {res_n}')\n",
    "if min([res_b, res_h, res_n], key=abs)==res_b:\n",
    "    print(f'Найбільш точне значення отримано методом бісекції.')\n",
    "elif min([res_b, res_h, res_n], key=abs)==res_h:\n",
    "    print(f'Найбільш точне значення отримано методом хорд.')\n",
    "else:\n",
    "    print(f'Найбільш точне значення отримано методом Ньютона.')"
   ]
  }
 ],
 "metadata": {
  "kernelspec": {
   "display_name": "Python 3",
   "language": "python",
   "name": "python3"
  },
  "language_info": {
   "codemirror_mode": {
    "name": "ipython",
    "version": 3
   },
   "file_extension": ".py",
   "mimetype": "text/x-python",
   "name": "python",
   "nbconvert_exporter": "python",
   "pygments_lexer": "ipython3",
   "version": "3.7.6"
  }
 },
 "nbformat": 4,
 "nbformat_minor": 4
}
